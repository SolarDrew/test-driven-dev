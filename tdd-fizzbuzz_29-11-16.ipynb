{
 "cells": [
  {
   "cell_type": "markdown",
   "metadata": {
    "slideshow": {
     "slide_type": "slide"
    }
   },
   "source": [
    "# Test-driven development: FizzBuzz"
   ]
  },
  {
   "cell_type": "markdown",
   "metadata": {
    "slideshow": {
     "slide_type": "slide"
    }
   },
   "source": [
    "# FizzBuzz\n",
    "\n",
    "FizzBuzz is a simple children’s game in which players count through a sequence of numbers.\n",
    "However, some of these numbers are replaced with words:\n",
    "\n",
    "- A number divisible by 3 is replaced with 'Fizz'\n",
    "- A number divisible by 5 is replaced with 'Buzz'\n",
    "- A number divisible by both 3 and 5 is replaced with 'FizzBuzz'"
   ]
  },
  {
   "cell_type": "markdown",
   "metadata": {
    "slideshow": {
     "slide_type": "subslide"
    }
   },
   "source": [
    "# Why FizzBuzz?\n",
    "In principle you can (and arguably should) use test-driven development for any coding project.\n",
    "\n",
    "In this case we’re using the FizzBuzz game as a demonstration because it's a fairly simple coding task with clearly defined inputs and outputs (1 -> 1,  2 -> 2,  3 -> 'Fizz', etc.)"
   ]
  },
  {
   "cell_type": "markdown",
   "metadata": {
    "slideshow": {
     "slide_type": "slide"
    }
   },
   "source": [
    "# Why write tests at all?\n",
    "\n",
    "- They tell you what the code should be doing\n",
    "- They tell you when the code isn’t doing what it should be doing\n",
    "- They tell you if old errors come back"
   ]
  },
  {
   "cell_type": "markdown",
   "metadata": {
    "slideshow": {
     "slide_type": "subslide"
    }
   },
   "source": [
    "# A common approach\n",
    "\n",
    "Many people write some code and then move on to testing it.\n",
    "The problem with doing it this way round is that it can make it hard to implement effective tests."
   ]
  },
  {
   "cell_type": "markdown",
   "metadata": {
    "slideshow": {
     "slide_type": "subslide"
    }
   },
   "source": [
    "# A better approach\n",
    "Test-driven development (TDD) is a method for writing and testing code, in which the tests are written first.\n",
    "Then you write the code and make it pass those tests.\n",
    "\n",
    "TDD consists of these steps:\n",
    "\n",
    "1. Write a test - it should fail\n",
    "2. Make your code pass the test\n",
    "3. ‘Refactor’ - tidy up your code\n",
    "4. Go back to 1.\n",
    "\n",
    "There are lots of TDD tutorials out there - I'll be following this one: https://elliot.land/test-driven-development-brief-overview."
   ]
  },
  {
   "cell_type": "markdown",
   "metadata": {
    "slideshow": {
     "slide_type": "slide"
    }
   },
   "source": [
    "# Some new code\n",
    "\n",
    "For this task we'll need a new piece of code, the `assert` statement.\n",
    "\n",
    "This statement tests a condition. If the condition evaluates to `True`, nothing happens. If it is `False`, the assert statement raises an error and stops the code.\n",
    "\n",
    "Optionally, you can also specify a string that is printed if the condition is `False`."
   ]
  },
  {
   "cell_type": "code",
   "execution_count": null,
   "metadata": {
    "collapsed": false
   },
   "outputs": [],
   "source": [
    "x = 1\n",
    "assert x < 0, 'x is positive, should be negative'"
   ]
  },
  {
   "cell_type": "markdown",
   "metadata": {
    "slideshow": {
     "slide_type": "slide"
    }
   },
   "source": [
    "# A first (failing) test"
   ]
  },
  {
   "cell_type": "code",
   "execution_count": null,
   "metadata": {
    "collapsed": false,
    "slideshow": {
     "slide_type": "-"
    }
   },
   "outputs": [],
   "source": [
    "def test_3_is_fizz():\n",
    "    assert fizz_buzz(3) == 'Fizz', '3 is not \"Fizz\"'\n",
    "    print('Test 1 passed')\n",
    "\n",
    "test_3_is_fizz()"
   ]
  },
  {
   "cell_type": "markdown",
   "metadata": {
    "slideshow": {
     "slide_type": "subslide"
    }
   },
   "source": [
    "# Make the test pass"
   ]
  },
  {
   "cell_type": "code",
   "execution_count": null,
   "metadata": {
    "collapsed": false,
    "slideshow": {
     "slide_type": "-"
    }
   },
   "outputs": [],
   "source": [
    "def fizz_buzz(number):\n",
    "    return 'Fizz'\n",
    "\n",
    "test_3_is_fizz()"
   ]
  },
  {
   "cell_type": "markdown",
   "metadata": {
    "slideshow": {
     "slide_type": "subslide"
    }
   },
   "source": [
    "# Refactoring\n",
    "\n",
    "Our code currently looks like this:\n",
    "\n",
    "```python\n",
    "def fizz_buzz(number):\n",
    "    return 'Fizz'\n",
    "\n",
    "def test_3_is_fizz():\n",
    "    assert fizz_buzz(3) == 'Fizz', '3 is not \"Fizz\"'\n",
    "    print('Test 1 passed')\n",
    "\n",
    "test_3_is_fizz()\n",
    "```\n",
    "\n",
    "This can’t really get much tidier so we’ll go back to step 1."
   ]
  },
  {
   "cell_type": "markdown",
   "metadata": {
    "slideshow": {
     "slide_type": "slide"
    }
   },
   "source": [
    "# The next test"
   ]
  },
  {
   "cell_type": "code",
   "execution_count": null,
   "metadata": {
    "collapsed": false
   },
   "outputs": [],
   "source": [
    "def test_5_is_buzz():\n",
    "    assert fizz_buzz(5) == 'Buzz', '5 is not \"Buzz\"'\n",
    "    print('Test 2 passed')\n",
    "    \n",
    "test_5_is_buzz()"
   ]
  },
  {
   "cell_type": "markdown",
   "metadata": {
    "slideshow": {
     "slide_type": "subslide"
    }
   },
   "source": [
    "# Make it pass again"
   ]
  },
  {
   "cell_type": "code",
   "execution_count": null,
   "metadata": {
    "collapsed": false
   },
   "outputs": [],
   "source": [
    "def fizz_buzz(number):\n",
    "    if number == 5:\n",
    "        return 'Buzz'\n",
    "    return 'Fizz'\n",
    "\n",
    "test_5_is_buzz()"
   ]
  },
  {
   "cell_type": "markdown",
   "metadata": {
    "slideshow": {
     "slide_type": "subslide"
    }
   },
   "source": [
    "# Refactor again\n",
    "\n",
    "Now if we put all our code together it looks like this:"
   ]
  },
  {
   "cell_type": "code",
   "execution_count": null,
   "metadata": {
    "collapsed": false,
    "slideshow": {
     "slide_type": "-"
    }
   },
   "outputs": [],
   "source": [
    "def fizz_buzz(number):\n",
    "    if number == 5:\n",
    "        return 'Buzz'\n",
    "    return 'Fizz'\n",
    "\n",
    "def test_3_is_fizz():\n",
    "    assert fizz_buzz(3) == 'Fizz', '3 is not \"Fizz\"'\n",
    "    print('Test 1 passed')\n",
    "\n",
    "def test_5_is_buzz():\n",
    "    assert fizz_buzz(5) == 'Buzz', '5 is not \"Buzz\"'\n",
    "    print('Test 2 passed')\n",
    "    \n",
    "test_3_is_fizz()\n",
    "test_5_is_buzz()"
   ]
  },
  {
   "cell_type": "markdown",
   "metadata": {
    "slideshow": {
     "slide_type": "subslide"
    }
   },
   "source": [
    "This is fine but now we have multiple tests.\n",
    "\n",
    "Ideally we want to run all of them every time we change the code, but calling each of them manually will quickly get boring.\n",
    "\n",
    "Let's group them all into one test function."
   ]
  },
  {
   "cell_type": "code",
   "execution_count": null,
   "metadata": {
    "collapsed": false,
    "slideshow": {
     "slide_type": "subslide"
    }
   },
   "outputs": [],
   "source": [
    "def fizz_buzz(number):\n",
    "    if number == 5:\n",
    "        return 'Buzz'\n",
    "    return 'Fizz'\n",
    "\n",
    "def test_3_is_fizz():\n",
    "    assert fizz_buzz(3) == 'Fizz', '3 is not \"Fizz\"'\n",
    "\n",
    "def test_5_is_buzz():\n",
    "    assert fizz_buzz(5) == 'Buzz', '5 is not \"Buzz\"'\n",
    "\n",
    "def run_all_tests():\n",
    "    test_3_is_fizz()\n",
    "    test_5_is_buzz()\n",
    "\n",
    "    print('All tests passed')\n",
    "\n",
    "run_all_tests()"
   ]
  },
  {
   "cell_type": "markdown",
   "metadata": {
    "slideshow": {
     "slide_type": "slide"
    }
   },
   "source": [
    "# Break it"
   ]
  },
  {
   "cell_type": "code",
   "execution_count": null,
   "metadata": {
    "collapsed": false
   },
   "outputs": [],
   "source": [
    "def test_15_is_fizzbuzz():\n",
    "    assert fizz_buzz(15) == 'FizzBuzz', '15 is not \"FizzBuzz\"'\n",
    "    \n",
    "def run_all_tests():\n",
    "    test_3_is_fizz()\n",
    "    test_5_is_buzz()\n",
    "    test_15_is_fizzbuzz()\n",
    "\n",
    "    print('All tests passed')\n",
    "\n",
    "run_all_tests()"
   ]
  },
  {
   "cell_type": "markdown",
   "metadata": {
    "slideshow": {
     "slide_type": "subslide"
    }
   },
   "source": [
    "# Fix it"
   ]
  },
  {
   "cell_type": "code",
   "execution_count": null,
   "metadata": {
    "collapsed": false
   },
   "outputs": [],
   "source": [
    "def fizz_buzz(number):\n",
    "    if number == 15:\n",
    "        return 'FizzBuzz'\n",
    "    if number == 5:\n",
    "        return 'Buzz'\n",
    "    return 'Fizz'\n",
    "\n",
    "run_all_tests()"
   ]
  },
  {
   "cell_type": "markdown",
   "metadata": {
    "slideshow": {
     "slide_type": "subslide"
    }
   },
   "source": [
    "# Improve it\n",
    "\n",
    "The full code is now longer than will fit on a slide.\n",
    "\n",
    "But it's tidy enough that it doesn't need to be changed at all."
   ]
  },
  {
   "cell_type": "code",
   "execution_count": null,
   "metadata": {
    "collapsed": false,
    "slideshow": {
     "slide_type": "skip"
    }
   },
   "outputs": [],
   "source": [
    "def fizz_buzz(number):\n",
    "    if number == 15:\n",
    "        return 'FizzBuzz'\n",
    "    if number == 5:\n",
    "        return 'Buzz'\n",
    "    return 'Fizz'\n",
    "\n",
    "def test_3_is_fizz():\n",
    "    assert fizz_buzz(3) == 'Fizz', '3 is not \"Fizz\"'\n",
    "\n",
    "def test_5_is_buzz():\n",
    "    assert fizz_buzz(5) == 'Buzz', '5 is not \"Buzz\"'\n",
    "\n",
    "def test_15_is_fizzbuzz():\n",
    "    assert fizz_buzz(15) == 'FizzBuzz', '15 is not \"FizzBuzz\"'\n",
    "    \n",
    "def run_all_tests():\n",
    "    test_3_is_fizz()\n",
    "    test_5_is_buzz()\n",
    "    test_15_is_fizzbuzz()\n",
    "\n",
    "    print('All tests passed')\n",
    "\n",
    "run_all_tests()"
   ]
  },
  {
   "cell_type": "markdown",
   "metadata": {
    "slideshow": {
     "slide_type": "slide"
    }
   },
   "source": [
    "# More tests!\n",
    "\n",
    "Normally you should continue in this way, introducing one minimal test case at a time.\n",
    "\n",
    "However, I'm going to cheat at this point and introduce two at once."
   ]
  },
  {
   "cell_type": "code",
   "execution_count": null,
   "metadata": {
    "collapsed": false,
    "slideshow": {
     "slide_type": "subslide"
    }
   },
   "outputs": [],
   "source": [
    "def test_1_is_1():\n",
    "    assert fizz_buzz(1) == 1, '1 is not 1'\n",
    "\n",
    "def test_2_is_2():\n",
    "    assert fizz_buzz(2) == 2, '2 is not 2'\n",
    "    \n",
    "def run_all_tests():\n",
    "    test_3_is_fizz()\n",
    "    test_5_is_buzz()\n",
    "    test_15_is_fizzbuzz()\n",
    "    test_1_is_1()\n",
    "    test_2_is_2()\n",
    "\n",
    "    print('All tests passed')\n",
    "\n",
    "run_all_tests()"
   ]
  },
  {
   "cell_type": "markdown",
   "metadata": {
    "slideshow": {
     "slide_type": "subslide"
    }
   },
   "source": [
    "# Pass the tests"
   ]
  },
  {
   "cell_type": "code",
   "execution_count": null,
   "metadata": {
    "collapsed": false
   },
   "outputs": [],
   "source": [
    "def fizz_buzz(number):\n",
    "    if number == 15:\n",
    "        return 'FizzBuzz'\n",
    "    if number == 5:\n",
    "        return 'Buzz'\n",
    "    if number == 1:\n",
    "        return number\n",
    "    return 'Fizz'\n",
    "\n",
    "run_all_tests()"
   ]
  },
  {
   "cell_type": "markdown",
   "metadata": {
    "slideshow": {
     "slide_type": "subslide"
    }
   },
   "source": [
    "# Refactor\n",
    "\n",
    "At this point we can simplify our `fizz_buzz()` function slightly, from this:"
   ]
  },
  {
   "cell_type": "code",
   "execution_count": null,
   "metadata": {
    "collapsed": true
   },
   "outputs": [],
   "source": [
    "def fizz_buzz(number):\n",
    "    if number == 15:\n",
    "        return 'FizzBuzz'\n",
    "    if number == 5:\n",
    "        return 'Buzz'\n",
    "    if number == 1 or number == 2:\n",
    "        return number\n",
    "    return 'Fizz'"
   ]
  },
  {
   "cell_type": "markdown",
   "metadata": {},
   "source": [
    "to this:"
   ]
  },
  {
   "cell_type": "code",
   "execution_count": null,
   "metadata": {
    "collapsed": true,
    "slideshow": {
     "slide_type": "-"
    }
   },
   "outputs": [],
   "source": [
    "def fizz_buzz(number):\n",
    "    if number == 15:\n",
    "        return 'FizzBuzz'\n",
    "    if number == 5:\n",
    "        return 'Buzz'\n",
    "    if number == 3:\n",
    "        return 'Fizz'\n",
    "    return number"
   ]
  },
  {
   "cell_type": "code",
   "execution_count": null,
   "metadata": {
    "collapsed": false,
    "slideshow": {
     "slide_type": "skip"
    }
   },
   "outputs": [],
   "source": [
    "def fizz_buzz(number):\n",
    "    if number == 15:\n",
    "        return 'FizzBuzz'\n",
    "    if number == 5:\n",
    "        return 'Buzz'\n",
    "    if number == 3:\n",
    "        return 'Fizz'\n",
    "    return number\n",
    "\n",
    "def test_3_is_fizz():\n",
    "    assert fizz_buzz(3) == 'Fizz', '3 is not \"Fizz\"'\n",
    "\n",
    "def test_5_is_buzz():\n",
    "    assert fizz_buzz(5) == 'Buzz', '5 is not \"Buzz\"'\n",
    "\n",
    "def test_15_is_fizzbuzz():\n",
    "    assert fizz_buzz(15) == 'FizzBuzz', '15 is not \"FizzBuzz\"'\n",
    "    \n",
    "def test_1_is_1():\n",
    "    assert fizz_buzz(1) == 1, '1 is not 1'\n",
    "    \n",
    "def test_2_is_2():\n",
    "    assert fizz_buzz(2) == 2, '2 is not 2'\n",
    "    \n",
    "def run_all_tests():\n",
    "    test_3_is_fizz()\n",
    "    test_5_is_buzz()\n",
    "    test_15_is_fizzbuzz()\n",
    "    test_1_is_1()\n",
    "    test_2_is_2()\n",
    "\n",
    "    print('All tests passed')\n",
    "\n",
    "run_all_tests()"
   ]
  },
  {
   "cell_type": "code",
   "execution_count": null,
   "metadata": {
    "collapsed": false,
    "slideshow": {
     "slide_type": "skip"
    }
   },
   "outputs": [],
   "source": [
    "def fizz_buzz(number):\n",
    "    if number == 15:\n",
    "        return 'FizzBuzz'\n",
    "    if number == 5:\n",
    "        return 'Buzz'\n",
    "    if number % 3 == 0:\n",
    "        return 'Fizz'\n",
    "    return number\n",
    "\n",
    "def test_3_is_fizz():\n",
    "    assert fizz_buzz(3) == 'Fizz', '3 is not \"Fizz\"'\n",
    "\n",
    "def test_5_is_buzz():\n",
    "    assert fizz_buzz(5) == 'Buzz', '5 is not \"Buzz\"'\n",
    "\n",
    "def test_15_is_fizzbuzz():\n",
    "    assert fizz_buzz(15) == 'FizzBuzz', '15 is not \"FizzBuzz\"'\n",
    "    \n",
    "def test_1_is_1():\n",
    "    assert fizz_buzz(1) == 1, '1 is not 1'\n",
    "    \n",
    "def test_2_is_2():\n",
    "    assert fizz_buzz(2) == 2, '2 is not 2'\n",
    "\n",
    "def test_6_is_fizz():\n",
    "    assert fizz_buzz(6) == 'Fizz', '6, is not \"Fizz\"'\n",
    "\n",
    "def run_all_tests():\n",
    "    test_3_is_fizz()\n",
    "    test_5_is_buzz()\n",
    "    test_15_is_fizzbuzz()\n",
    "    test_1_is_1()\n",
    "    test_2_is_2()\n",
    "    test_6_is_fizz()\n",
    "\n",
    "    print('All tests passed')\n",
    "\n",
    "run_all_tests()"
   ]
  },
  {
   "cell_type": "code",
   "execution_count": null,
   "metadata": {
    "collapsed": false,
    "slideshow": {
     "slide_type": "skip"
    }
   },
   "outputs": [],
   "source": [
    "def fizz_buzz(number):\n",
    "    if number == 15:\n",
    "        return 'FizzBuzz'\n",
    "    if number % 5 == 0:\n",
    "        return 'Buzz'\n",
    "    if number % 3 == 0:\n",
    "        return 'Fizz'\n",
    "    return number\n",
    "\n",
    "def test_3_is_fizz():\n",
    "    assert fizz_buzz(3) == 'Fizz', '3 is not \"Fizz\"'\n",
    "\n",
    "def test_5_is_buzz():\n",
    "    assert fizz_buzz(5) == 'Buzz', '5 is not \"Buzz\"'\n",
    "\n",
    "def test_15_is_fizzbuzz():\n",
    "    assert fizz_buzz(15) == 'FizzBuzz', '15 is not \"FizzBuzz\"'\n",
    "    \n",
    "def test_1_is_1():\n",
    "    assert fizz_buzz(1) == 1, '1 is not 1'\n",
    "    \n",
    "def test_2_is_2():\n",
    "    assert fizz_buzz(2) == 2, '2 is not 2'\n",
    "\n",
    "def test_6_is_fizz():\n",
    "    assert fizz_buzz(6) == 'Fizz', '6, is not \"Fizz\"'\n",
    "    \n",
    "def test_10_is_buzz():\n",
    "    assert fizz_buzz(10) == 'Buzz', '10 is not \"Buzz\"'\n",
    "\n",
    "def run_all_tests():\n",
    "    test_3_is_fizz()\n",
    "    test_5_is_buzz()\n",
    "    test_15_is_fizzbuzz()\n",
    "    test_1_is_1()\n",
    "    test_2_is_2()\n",
    "    test_6_is_fizz()\n",
    "    test_10_is_buzz()\n",
    "\n",
    "    print('All tests passed')\n",
    "\n",
    "run_all_tests()"
   ]
  },
  {
   "cell_type": "markdown",
   "metadata": {
    "slideshow": {
     "slide_type": "slide"
    }
   },
   "source": [
    "# Skipping ahead\n",
    "\n",
    "At this point, in the interests of time, I'm going to introduce several tests at once again.\n",
    "\n",
    "Remember when you do this to make sure you do one test at a time and work through the full process."
   ]
  },
  {
   "cell_type": "code",
   "execution_count": null,
   "metadata": {
    "collapsed": false,
    "slideshow": {
     "slide_type": "subslide"
    }
   },
   "outputs": [],
   "source": [
    "def test_6_is_fizz():\n",
    "    assert fizz_buzz(6) == 'Fizz', '6, is not \"Fizz\"'\n",
    "    \n",
    "def test_10_is_buzz():\n",
    "    assert fizz_buzz(10) == 'Buzz', '10 is not \"Buzz\"'\n",
    "    \n",
    "def test_30_is_fizzbuzz():\n",
    "    assert fizz_buzz(30) == 'FizzBuzz', '30 is not \"FizzBuzz\"'\n",
    "\n",
    "def run_all_tests():\n",
    "    ...\n",
    "    test_6_is_fizz()\n",
    "    test_10_is_buzz()\n",
    "    test_30_is_fizzbuzz()\n",
    "\n",
    "    print('All tests passed')\n",
    "\n",
    "run_all_tests()"
   ]
  },
  {
   "cell_type": "markdown",
   "metadata": {
    "slideshow": {
     "slide_type": "subslide"
    }
   },
   "source": [
    "# Fixing\n",
    "\n",
    "For each of these tests we change the code to make it pass the test."
   ]
  },
  {
   "cell_type": "code",
   "execution_count": null,
   "metadata": {
    "collapsed": false,
    "slideshow": {
     "slide_type": "subslide"
    }
   },
   "outputs": [],
   "source": [
    "def fizz_buzz(number):\n",
    "    if number == 15:\n",
    "        return 'FizzBuzz'\n",
    "    if number == 5:\n",
    "        return 'Buzz'\n",
    "    if number == 3:\n",
    "        return 'Fizz'\n",
    "    return number\n",
    "\n",
    "run_all_tests()"
   ]
  },
  {
   "cell_type": "markdown",
   "metadata": {
    "slideshow": {
     "slide_type": "slide"
    }
   },
   "source": [
    "# More tests?\n",
    "\n",
    "At this point we find that there are no more cases we can test for that aren't already covered by the tests we have, so we can't write a test that will fail.\n",
    "\n",
    "This means the function is finished."
   ]
  },
  {
   "cell_type": "markdown",
   "metadata": {
    "slideshow": {
     "slide_type": "subslide"
    }
   },
   "source": [
    "So now our function looks like this:"
   ]
  },
  {
   "cell_type": "code",
   "execution_count": null,
   "metadata": {
    "collapsed": true
   },
   "outputs": [],
   "source": [
    "def fizz_buzz(number):\n",
    "    if number % 15 == 0:\n",
    "        return 'FizzBuzz'\n",
    "    if number % 5 == 0:\n",
    "        return 'Buzz'\n",
    "    if number % 3 == 0:\n",
    "        return 'Fizz'\n",
    "    return number"
   ]
  },
  {
   "cell_type": "markdown",
   "metadata": {
    "slideshow": {
     "slide_type": "subslide"
    }
   },
   "source": [
    "and we have a suite of tests:"
   ]
  },
  {
   "cell_type": "code",
   "execution_count": null,
   "metadata": {
    "collapsed": true
   },
   "outputs": [],
   "source": [
    "def test_3_is_fizz():\n",
    "    assert fizz_buzz(3) == 'Fizz', '3 is not \"Fizz\"'\n",
    "\n",
    "def test_5_is_buzz():\n",
    "    assert fizz_buzz(5) == 'Buzz', '5 is not \"Buzz\"'\n",
    "\n",
    "def test_15_is_fizzbuzz():\n",
    "    assert fizz_buzz(15) == 'FizzBuzz', '15 is not \"FizzBuzz\"'\n",
    "    \n",
    "def test_1_is_1():\n",
    "    assert fizz_buzz(1) == 1, '1 is not 1'\n",
    "    \n",
    "def test_2_is_2():\n",
    "    assert fizz_buzz(2) == 2, '2 is not 2'\n",
    "\n",
    "def test_6_is_fizz():\n",
    "    assert fizz_buzz(6) == 'Fizz', '6, is not \"Fizz\"'\n",
    "    \n",
    "def test_10_is_buzz():\n",
    "    assert fizz_buzz(10) == 'Buzz', '10 is not \"Buzz\"'\n",
    "    \n",
    "def test_30_is_fizzbuzz():\n",
    "    assert fizz_buzz(30) == 'FizzBuzz', '30 is not \"FizzBuzz\"'"
   ]
  },
  {
   "cell_type": "markdown",
   "metadata": {
    "slideshow": {
     "slide_type": "subslide"
    }
   },
   "source": [
    "which can all be run at once:"
   ]
  },
  {
   "cell_type": "code",
   "execution_count": null,
   "metadata": {
    "collapsed": false
   },
   "outputs": [],
   "source": [
    "def run_all_tests():\n",
    "    test_3_is_fizz()\n",
    "    test_5_is_buzz()\n",
    "    test_15_is_fizzbuzz()\n",
    "    test_1_is_1()\n",
    "    test_2_is_2()\n",
    "    test_6_is_fizz()\n",
    "    test_10_is_buzz()\n",
    "    test_30_is_fizzbuzz()\n",
    "\n",
    "    print('All tests passed')\n",
    "\n",
    "run_all_tests()"
   ]
  },
  {
   "cell_type": "code",
   "execution_count": null,
   "metadata": {
    "collapsed": false,
    "slideshow": {
     "slide_type": "skip"
    }
   },
   "outputs": [],
   "source": [
    "def fizz_buzz(number):\n",
    "    if number % 15 == 0:\n",
    "        return 'FizzBuzz'\n",
    "    if number % 5 == 0:\n",
    "        return 'Buzz'\n",
    "    if number % 3 == 0:\n",
    "        return 'Fizz'\n",
    "    return number\n",
    "\n",
    "def test_3_is_fizz():\n",
    "    assert fizz_buzz(3) == 'Fizz', '3 is not \"Fizz\"'\n",
    "\n",
    "def test_5_is_buzz():\n",
    "    assert fizz_buzz(5) == 'Buzz', '5 is not \"Buzz\"'\n",
    "\n",
    "def test_15_is_fizzbuzz():\n",
    "    assert fizz_buzz(15) == 'FizzBuzz', '15 is not \"FizzBuzz\"'\n",
    "    \n",
    "def test_1_is_1():\n",
    "    assert fizz_buzz(1) == 1, '1 is not 1'\n",
    "    \n",
    "def test_2_is_2():\n",
    "    assert fizz_buzz(2) == 2, '2 is not 2'\n",
    "\n",
    "def test_6_is_fizz():\n",
    "    assert fizz_buzz(6) == 'Fizz', '6, is not \"Fizz\"'\n",
    "    \n",
    "def test_10_is_buzz():\n",
    "    assert fizz_buzz(10) == 'Buzz', '10 is not \"Buzz\"'\n",
    "    \n",
    "def test_30_is_fizzbuzz():\n",
    "    assert fizz_buzz(30) == 'FizzBuzz', '30 is not \"FizzBuzz\"'\n",
    "\n",
    "def run_all_tests():\n",
    "    test_3_is_fizz()\n",
    "    test_5_is_buzz()\n",
    "    test_15_is_fizzbuzz()\n",
    "    test_1_is_1()\n",
    "    test_2_is_2()\n",
    "    test_6_is_fizz()\n",
    "    test_10_is_buzz()\n",
    "    test_30_is_fizzbuzz()\n",
    "\n",
    "    print('All tests passed')\n",
    "\n",
    "run_all_tests()"
   ]
  },
  {
   "cell_type": "markdown",
   "metadata": {
    "slideshow": {
     "slide_type": "slide"
    }
   },
   "source": [
    "# Even more refactoring\n",
    "\n",
    "There actually exist modules in Python designed to run these kinds of tests, such as [`unittest`](https://docs.python.org/3/library/unittest.html) and [`pytest`](http://doc.pytest.org/en/latest/).\n",
    "\n",
    "We didn't use these modules for this lecture because they make use of some slightly more complex concepts, but they have the advantage that they can automatically run many tests without us manually grouping them into one large function.\n",
    "\n",
    "If you're interested in developing reliable, well-tested code, it's worth looking into one of these modules."
   ]
  },
  {
   "cell_type": "markdown",
   "metadata": {
    "slideshow": {
     "slide_type": "subslide"
    }
   },
   "source": [
    "This code is taken from [the blog post I mentioned earlier](https://elliot.land/test-driven-development-brief-overview)."
   ]
  },
  {
   "cell_type": "code",
   "execution_count": null,
   "metadata": {
    "collapsed": false,
    "slideshow": {
     "slide_type": "-"
    }
   },
   "outputs": [],
   "source": [
    "import unittest\n",
    "\n",
    "def fizz_buzz(number):\n",
    "    if number % 15 == 0:\n",
    "        return 'FizzBuzz'\n",
    "    if number % 5 == 0:\n",
    "        return 'Buzz'\n",
    "    if number % 3 == 0:\n",
    "        return 'Fizz'\n",
    "    return number\n",
    "\n",
    "class TestFizzBuzz(unittest.TestCase):\n",
    "    def test_3_is_fizz(self):\n",
    "        self.assertEqual(fizz_buzz(3), 'Fizz')\n",
    "\n",
    "    def test_5_is_buzz(self):\n",
    "        self.assertEqual(fizz_buzz(5), 'Buzz')\n",
    "\n",
    "    def test_15_is_fizzbuzz(self):\n",
    "        self.assertEqual(fizz_buzz(15), 'FizzBuzz')\n",
    "\n",
    "    def test_1_is_1(self):\n",
    "        self.assertEqual(fizz_buzz(1), 1)\n",
    "\n",
    "    def test_2_is_2(self):\n",
    "        self.assertEqual(fizz_buzz(2), 2)\n",
    "\n",
    "    def test_6_is_fizz(self):\n",
    "        self.assertEqual(fizz_buzz(6), 'Fizz')\n",
    "\n",
    "    def test_10_is_buzz(self):\n",
    "        self.assertEqual(fizz_buzz(10), 'Buzz')\n",
    "\n",
    "    def test_30_is_fizzbuzz(self):\n",
    "        self.assertEqual(fizz_buzz(30), 'FizzBuzz')\n",
    "\n",
    "unittest.main(argv=['first-arg-is-ignored'], exit=False)"
   ]
  }
 ],
 "metadata": {
  "celltoolbar": "Slideshow",
  "kernelspec": {
   "display_name": "Python 3",
   "language": "python",
   "name": "python3"
  },
  "language_info": {
   "codemirror_mode": {
    "name": "ipython",
    "version": 3
   },
   "file_extension": ".py",
   "mimetype": "text/x-python",
   "name": "python",
   "nbconvert_exporter": "python",
   "pygments_lexer": "ipython3",
   "version": "3.5.2"
  }
 },
 "nbformat": 4,
 "nbformat_minor": 0
}
